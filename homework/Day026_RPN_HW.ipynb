{
 "cells": [
  {
   "cell_type": "markdown",
   "execution_count": null,
   "metadata": {},
   "outputs": [],
   "source": [
    "## 『本次練習內容』\n",
    "#### 學習搭建RPN層"
   ]
  },
  {
   "cell_type": "markdown",
   "execution_count": null,
   "metadata": {},
   "outputs": [],
   "source": [
    "## 『本次練習目的』\n",
    "  #### 了解Object Detection演算法中是如何做到分類又回歸BBOX座標"
   ]
  },
  {
   "cell_type": "code",
   "execution_count": 1,
   "metadata": {},
   "outputs": [
    {
     "name": "stderr",
     "output_type": "stream",
     "text": "Using TensorFlow backend.\n"
    }
   ],
   "source": [
    "from keras.layers import Flatten, Dense, Input, Conv2D, MaxPooling2D, Dropout\n",
    "from keras.layers import GlobalAveragePooling2D, GlobalMaxPooling2D, TimeDistributed\n",
    "\n",
    "input_shape_img = (1024, 1024, 3)\n",
    "img_input = Input(shape=input_shape_img)\n",
    "\n",
    "'''先過一般CNN層提取特徵'''\n",
    "def nn_base(img_input):\n",
    "    # Block 1\n",
    "    x = Conv2D(64, (3, 3), activation='relu', padding='same', name='block1_conv1')(img_input)\n",
    "    x = Conv2D(64, (3, 3), activation='relu', padding='same', name='block1_conv2')(x)\n",
    "    # 縮水1/2 1024x1024 -> 512x512\n",
    "    x = MaxPooling2D((2, 2), strides=(2, 2), name='block1_pool')(x)\n",
    "\n",
    "    # Block 2\n",
    "    x = Conv2D(128, (3, 3), activation='relu', padding='same', name='block2_conv1')(x)\n",
    "    x = Conv2D(128, (3, 3), activation='relu', padding='same', name='block2_conv2')(x)\n",
    "    # 縮水1/2 512x512 -> 256x256\n",
    "    x = MaxPooling2D((2, 2), strides=(2, 2), name='block2_pool')(x)\n",
    "\n",
    "    # Block 3\n",
    "    x = Conv2D(256, (3, 3), activation='relu', padding='same', name='block3_conv1')(x)\n",
    "    x = Conv2D(256, (3, 3), activation='relu', padding='same', name='block3_conv2')(x)\n",
    "    x = Conv2D(256, (3, 3), activation='relu', padding='same', name='block3_conv3')(x)\n",
    "    # 縮水1/2 256x256 -> 128x128\n",
    "    x = MaxPooling2D((2, 2), strides=(2, 2), name='block3_pool')(x)\n",
    "\n",
    "    # Block 4\n",
    "    x = Conv2D(512, (3, 3), activation='relu', padding='same', name='block4_conv1')(x)\n",
    "    x = Conv2D(512, (3, 3), activation='relu', padding='same', name='block4_conv2')(x)\n",
    "    x = Conv2D(512, (3, 3), activation='relu', padding='same', name='block4_conv3')(x)\n",
    "    # 縮水1/2 128x128 -> 64x64\n",
    "    x = MaxPooling2D((2, 2), strides=(2, 2), name='block4_pool')(x)\n",
    "\n",
    "    # Block 5\n",
    "    x = Conv2D(512, (3, 3), activation='relu', padding='same', name='block5_conv1')(x)\n",
    "    x = Conv2D(512, (3, 3), activation='relu', padding='same', name='block5_conv2')(x)\n",
    "    x = Conv2D(512, (3, 3), activation='relu', padding='same', name='block5_conv3')(x)\n",
    "\n",
    "    # 最後返回的x是64x64x512的feature map。\n",
    "    return x\n",
    "    "
   ]
  },
  {
   "cell_type": "code",
   "execution_count": 2,
   "metadata": {},
   "outputs": [],
   "source": [
    "'''過RPN'''\n",
    "def rpn(base_layers, num_anchors):\n",
    "\n",
    "    #x = Conv2D('''深度應該為多少？''', '''Kernel大小？''', padding='same', activation='relu', kernel_initializer='normal', name='rpn_conv1')(base_layers)\n",
    "    x = Conv2D(512, (3,3), padding='same', activation='relu', kernel_initializer='normal', name='rpn_conv1')(base_layers)\n",
    "\n",
    "    # rpn分類和迴歸\n",
    "    #x_class = Conv2D(num_anchors*'''應該為多少？''', (1, 1), activation='softmax',name='rpn_out_class')(x)\n",
    "    #x_reg = Conv2D(num_anchors *'''應該為多少？''', (1, 1), activation='linear', name='rpn_out_regress')(x)\n",
    "    x_class = Conv2D(num_anchors *2, (1,1), activation='softmax',name='rpn_out_class')(x)\n",
    "    x_reg = Conv2D(num_anchors *4, (1,1), activation='linear', name='rpn_out_regress')(x)\n",
    "\n",
    "    return x_class, x_reg, base_layers\n"
   ]
  },
  {
   "cell_type": "code",
   "execution_count": 3,
   "metadata": {},
   "outputs": [],
   "source": [
    "base_layers = nn_base(img_input)\n"
   ]
  },
  {
   "cell_type": "code",
   "execution_count": 4,
   "metadata": {},
   "outputs": [],
   "source": [
    "#x_class, x_reg, base_layers = rpn(base_layers, '''原文設計是幾個？''')\n",
    "x_class, x_reg, base_layers = rpn(base_layers, 9)\n"
   ]
  },
  {
   "cell_type": "code",
   "execution_count": 5,
   "metadata": {},
   "outputs": [
    {
     "name": "stdout",
     "output_type": "stream",
     "text": "Classification支線： Tensor(\"rpn_out_class/truediv:0\", shape=(None, 64, 64, 18), dtype=float32)\nBBOX Regression 支線： Tensor(\"rpn_out_regress/BiasAdd:0\", shape=(None, 64, 64, 36), dtype=float32)\nCNN Output： Tensor(\"block5_conv3/Relu:0\", shape=(None, 64, 64, 512), dtype=float32)\n"
    }
   ],
   "source": [
    "print('Classification支線：', x_class) #'''確認深度是否為18'''\n",
    "print('BBOX Regression 支線：', x_reg) #'''確認深度是否為36'''\n",
    "print('CNN Output：', base_layers)\n"
   ]
  },
  {
   "cell_type": "code",
   "execution_count": 6,
   "metadata": {},
   "outputs": [
    {
     "name": "stdout",
     "output_type": "stream",
     "text": "Model: \"vgg16\"\n_________________________________________________________________\nLayer (type)                 Output Shape              Param #   \n=================================================================\ninput_1 (InputLayer)         (None, 1024, 1024, 3)     0         \n_________________________________________________________________\nblock1_conv1 (Conv2D)        (None, 1024, 1024, 64)    1792      \n_________________________________________________________________\nblock1_conv2 (Conv2D)        (None, 1024, 1024, 64)    36928     \n_________________________________________________________________\nblock1_pool (MaxPooling2D)   (None, 512, 512, 64)      0         \n_________________________________________________________________\nblock2_conv1 (Conv2D)        (None, 512, 512, 128)     73856     \n_________________________________________________________________\nblock2_conv2 (Conv2D)        (None, 512, 512, 128)     147584    \n_________________________________________________________________\nblock2_pool (MaxPooling2D)   (None, 256, 256, 128)     0         \n_________________________________________________________________\nblock3_conv1 (Conv2D)        (None, 256, 256, 256)     295168    \n_________________________________________________________________\nblock3_conv2 (Conv2D)        (None, 256, 256, 256)     590080    \n_________________________________________________________________\nblock3_conv3 (Conv2D)        (None, 256, 256, 256)     590080    \n_________________________________________________________________\nblock3_pool (MaxPooling2D)   (None, 128, 128, 256)     0         \n_________________________________________________________________\nblock4_conv1 (Conv2D)        (None, 128, 128, 512)     1180160   \n_________________________________________________________________\nblock4_conv2 (Conv2D)        (None, 128, 128, 512)     2359808   \n_________________________________________________________________\nblock4_conv3 (Conv2D)        (None, 128, 128, 512)     2359808   \n_________________________________________________________________\nblock4_pool (MaxPooling2D)   (None, 64, 64, 512)       0         \n_________________________________________________________________\nblock5_conv1 (Conv2D)        (None, 64, 64, 512)       2359808   \n_________________________________________________________________\nblock5_conv2 (Conv2D)        (None, 64, 64, 512)       2359808   \n_________________________________________________________________\nblock5_conv3 (Conv2D)        (None, 64, 64, 512)       2359808   \n=================================================================\nTotal params: 14,714,688\nTrainable params: 14,714,688\nNon-trainable params: 0\n_________________________________________________________________\n"
    }
   ],
   "source": [
    "from keras.models import Model\n",
    "model = Model(img_input, base_layers, name='vgg16')\n",
    "model.summary()\n"
   ]
  }
 ],
 "metadata": {
  "kernelspec": {
   "display_name": "Python 3",
   "language": "python",
   "name": "python3"
  },
  "language_info": {
   "codemirror_mode": {
    "name": "ipython",
    "version": 3
   },
   "file_extension": ".py",
   "mimetype": "text/x-python",
   "name": "python",
   "nbconvert_exporter": "python",
   "pygments_lexer": "ipython3",
   "version": "3.7.5-final"
  }
 },
 "nbformat": 4,
 "nbformat_minor": 2
}