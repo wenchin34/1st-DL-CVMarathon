{
 "cells": [
  {
   "cell_type": "markdown",
   "execution_count": null,
   "metadata": {},
   "outputs": [],
   "source": [
    "## 『本次練習內容』\n",
    "#### 運用這幾天所學觀念搭建一個CNN分類器"
   ]
  },
  {
   "cell_type": "markdown",
   "execution_count": null,
   "metadata": {},
   "outputs": [],
   "source": [
    "## 『本次練習目的』\n",
    "  #### 熟悉CNN分類器搭建步驟與原理\n",
    "  #### 學員們可以嘗試不同搭法，如使用不同的Maxpooling層，用GlobalAveragePooling取代Flatten等等"
   ]
  },
  {
   "cell_type": "code",
   "execution_count": 1,
   "metadata": {},
   "outputs": [
    {
     "name": "stderr",
     "output_type": "stream",
     "text": "Using TensorFlow backend.\n"
    }
   ],
   "source": [
    "from keras.models import Sequential\n",
    "from keras.layers import Convolution2D\n",
    "from keras.layers import MaxPooling2D\n",
    "from keras.layers import Flatten\n",
    "from keras.layers import Dense\n",
    "from keras.layers import Dropout\n",
    "from keras.layers import BatchNormalization\n",
    "from keras.datasets import cifar10\n",
    "import numpy as np\n",
    "import tensorflow as tf\n",
    "from sklearn.preprocessing import OneHotEncoder\n"
   ]
  },
  {
   "cell_type": "code",
   "execution_count": 2,
   "metadata": {},
   "outputs": [
    {
     "name": "stdout",
     "output_type": "stream",
     "text": "(50000, 32, 32, 3)\n"
    }
   ],
   "source": [
    "(x_train, y_train), (x_test, y_test) = cifar10.load_data()\n",
    "\n",
    "print(x_train.shape) #(50000, 32, 32, 3)\n",
    "\n",
    "## Normalize Data\n",
    "def normalize(X_train,X_test):\n",
    "        mean = np.mean(X_train,axis=(0,1,2,3))\n",
    "        std = np.std(X_train, axis=(0, 1, 2, 3))\n",
    "        X_train = (X_train-mean)/(std+1e-7)\n",
    "        X_test = (X_test-mean)/(std+1e-7) \n",
    "        return X_train, X_test,mean,std\n",
    "    \n",
    "    \n",
    "## Normalize Training and Testset    \n",
    "x_train, x_test,mean_train,std_train = normalize(x_train, x_test) "
   ]
  },
  {
   "cell_type": "code",
   "execution_count": 3,
   "metadata": {},
   "outputs": [],
   "source": [
    "## OneHot Label 由(None, 1)-(None, 10)\n",
    "## ex. label=2,變成[0,0,1,0,0,0,0,0,0,0]\n",
    "one_hot=OneHotEncoder()\n",
    "y_train=one_hot.fit_transform(y_train).toarray()\n",
    "y_test=one_hot.transform(y_test).toarray()"
   ]
  },
  {
   "cell_type": "code",
   "execution_count": 4,
   "metadata": {},
   "outputs": [
    {
     "name": "stderr",
     "output_type": "stream",
     "text": "C:\\Develop\\Python\\MarathonCVDL\\lib\\site-packages\\ipykernel_launcher.py:27: UserWarning: Update your `Dense` call to the Keras 2 API: `Dense(activation=\"softmax\", units=10)`\nEpoch 1/20\n50000/50000 [==============================] - 17s 344us/step - loss: 1.4633 - accuracy: 0.5323\nEpoch 2/20\n50000/50000 [==============================] - 15s 296us/step - loss: 0.8938 - accuracy: 0.6921\nEpoch 3/20\n50000/50000 [==============================] - 14s 288us/step - loss: 0.7036 - accuracy: 0.7538\nEpoch 4/20\n50000/50000 [==============================] - 15s 293us/step - loss: 0.5584 - accuracy: 0.8051\nEpoch 5/20\n50000/50000 [==============================] - 15s 295us/step - loss: 0.4382 - accuracy: 0.8461\nEpoch 6/20\n50000/50000 [==============================] - 15s 296us/step - loss: 0.3477 - accuracy: 0.8775\nEpoch 7/20\n50000/50000 [==============================] - 15s 298us/step - loss: 0.2800 - accuracy: 0.9035\nEpoch 8/20\n50000/50000 [==============================] - 15s 307us/step - loss: 0.2117 - accuracy: 0.9267\nEpoch 9/20\n50000/50000 [==============================] - 15s 300us/step - loss: 0.1870 - accuracy: 0.9362\nEpoch 10/20\n50000/50000 [==============================] - 15s 303us/step - loss: 0.1718 - accuracy: 0.9403\nEpoch 11/20\n50000/50000 [==============================] - 15s 301us/step - loss: 0.1572 - accuracy: 0.9466\nEpoch 12/20\n50000/50000 [==============================] - 15s 298us/step - loss: 0.1308 - accuracy: 0.9549\nEpoch 13/20\n50000/50000 [==============================] - 15s 298us/step - loss: 0.1135 - accuracy: 0.9616\nEpoch 14/20\n50000/50000 [==============================] - 15s 304us/step - loss: 0.1235 - accuracy: 0.9581\nEpoch 15/20\n50000/50000 [==============================] - 15s 302us/step - loss: 0.1062 - accuracy: 0.9643\nEpoch 16/20\n50000/50000 [==============================] - 15s 304us/step - loss: 0.0939 - accuracy: 0.9681\nEpoch 17/20\n50000/50000 [==============================] - 15s 301us/step - loss: 0.0837 - accuracy: 0.9709\nEpoch 18/20\n50000/50000 [==============================] - 15s 298us/step - loss: 0.0887 - accuracy: 0.9698\nEpoch 19/20\n50000/50000 [==============================] - 15s 307us/step - loss: 0.0857 - accuracy: 0.9722\nEpoch 20/20\n50000/50000 [==============================] - 15s 299us/step - loss: 0.0723 - accuracy: 0.9762\n"
    },
    {
     "data": {
      "text/plain": "<keras.callbacks.callbacks.History at 0x27b76ae4dc8>"
     },
     "execution_count": 4,
     "metadata": {},
     "output_type": "execute_result"
    }
   ],
   "source": [
    "\n",
    "classifier=Sequential()\n",
    "\n",
    "#卷積組合\n",
    "#classifier.add(Convolution2D('自己設計參數'))#32,3,3,input_shape=(32,32,3),activation='relu''\n",
    "classifier.add(Convolution2D(32,(3,3),input_shape=(32,32,3),activation='relu'))\n",
    "classifier.add(BatchNormalization())\n",
    "\n",
    "'''自己決定MaxPooling2D放在哪裡'''\n",
    "#classifier.add(MaxPooling2D(pool_size=(2,2)))\n",
    "classifier.add(MaxPooling2D(pool_size=(2,2)))\n",
    "\n",
    "#卷積組合\n",
    "#classifier.add(Convolution2D('自己設計參數'))\n",
    "classifier.add(Convolution2D(64,(3,3)))\n",
    "classifier.add(BatchNormalization())\n",
    "\n",
    "#flatten\n",
    "classifier.add(Flatten())\n",
    "\n",
    "#FC\n",
    "#classifier.add(Dense('自己設計FC層參數')) #output_dim=100,activation=relu\n",
    "#classifier.add(Dense(output_dim=100,activation='relu'))\n",
    "classifier.add(Dense(units=100, activation='relu')) \n",
    "\n",
    "#輸出\n",
    "#classifier.add(Dense(output_dim=10,activation='輸出函數應該用什麼？'))\n",
    "classifier.add(Dense(output_dim=10,activation='softmax'))\n",
    "\n",
    "#超過兩個就要選categorical_crossentrophy\n",
    "classifier.compile(optimizer = 'adam', loss = 'categorical_crossentropy', metrics = ['accuracy'])\n",
    "classifier.fit(x_train,y_train,batch_size=100,epochs=20)"
   ]
  },
  {
   "cell_type": "markdown",
   "execution_count": null,
   "metadata": {},
   "outputs": [],
   "source": [
    "## 預測新圖片，輸入影像前處理要與訓練時相同\n",
    "#### ((X-mean)/(std+1e-7) ):這裡的mean跟std是訓練集的\n",
    "## 維度如下方示範"
   ]
  },
  {
   "cell_type": "code",
   "execution_count": 5,
   "metadata": {},
   "outputs": [
    {
     "data": {
      "text/plain": "array([[3.3585887e-04, 5.3443085e-07, 1.8245993e-05, 4.3906727e-01,\n        1.1253517e-05, 1.4233269e-03, 3.3209464e-05, 5.5874884e-01,\n        3.6106628e-04, 3.4579239e-07]], dtype=float32)"
     },
     "execution_count": 5,
     "metadata": {},
     "output_type": "execute_result"
    }
   ],
   "source": [
    "input_example=(np.zeros(shape=(1,32,32,3))-mean_train)/(std_train+1e-7) \n",
    "classifier.predict(input_example)"
   ]
  },
  {
   "cell_type": "code",
   "execution_count": null,
   "metadata": {},
   "outputs": [],
   "source": []
  }
 ],
 "metadata": {
  "kernelspec": {
   "display_name": "Python 3",
   "language": "python",
   "name": "python3"
  },
  "language_info": {
   "codemirror_mode": {
    "name": "ipython",
    "version": 3
   },
   "file_extension": ".py",
   "mimetype": "text/x-python",
   "name": "python",
   "nbconvert_exporter": "python",
   "pygments_lexer": "ipython3",
   "version": "3.7.5-final"
  }
 },
 "nbformat": 4,
 "nbformat_minor": 2
}